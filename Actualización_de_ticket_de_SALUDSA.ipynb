{
  "cells": [
    {
      "cell_type": "code",
      "execution_count": null,
      "metadata": {
        "id": "f-voYajxMC4x"
      },
      "outputs": [],
      "source": [
        "#@markdown\n",
        "#Librería para manipular datos\n",
        "import pandas as pd\n",
        "# llamar a la API de Zendesk\n",
        "import numpy as np\n",
        "import requests\n",
        "import time\n",
        "import json\n",
        "import base64\n",
        "import glob\n",
        "import os\n",
        "from os import walk\n",
        "from urllib import parse\n",
        "import math\n",
        "\n",
        "#from google.colab import drive\n",
        "#drive.mount('/content/drive')\n",
        "\n",
        "#config\n",
        "pd.set_option('display.max_columns', None)\n",
        "#@markdown #***INGRESO DE USUARIO***\n",
        "Dominio = '' #@param {type: \"string\"}\n",
        "Email = '' #@param {type:\"string\"}\n",
        "Token = ''#@param {type:\"string\"}\n",
        "updated_fields = '' #@param {type: \"string\"}\n",
        "\n",
        "z_domain= Dominio\n",
        "email= Email\n",
        "contraseña= Token\n",
        "\n",
        "\n",
        "from tqdm import tqdm\n",
        "from time import sleep\n",
        "\n",
        "#@markdown\n",
        "authentication=email+\"/token:\"+contraseña\n",
        "message_bytes = authentication.encode('ascii')\n",
        "base64_bytes=base64.b64encode(message_bytes).decode('ascii')\n",
        "\n",
        "headers = {'Authorization': 'Basic '+base64_bytes, 'Content-Type': 'application/json'}"
      ]
    },
    {
      "cell_type": "code",
      "execution_count": null,
      "metadata": {
        "id": "2O5wYMW83E04"
      },
      "outputs": [],
      "source": [
        "df= pd.read_excel(\"/content/segunda carga (1).xlsx\")\n",
        "df.columns"
      ]
    },
    {
      "cell_type": "code",
      "execution_count": null,
      "metadata": {
        "colab": {
          "background_save": true
        },
        "id": "Aq0Vh6FCMQNz"
      },
      "outputs": [],
      "source": [
        "#id_ticket=1382\n",
        "cnt=0\n",
        "resultados=[]\n",
        "for x in df.index:\n",
        "  id_ticket=df['ID del ticket'][x]\n",
        "  json_payload={\"ticket\": {\"custom_fields\": [{\"id\": int(updated_fields),\"value\": str(df['Fecha Nacimiento - Fecha'][x])}]}}\n",
        "  r=requests.put(z_domain+\"/api/v2/tickets/\"+str(id_ticket), headers=headers, json=json_payload)\n",
        "  resultados.append([id_ticket,r.status_code,r.text])\n",
        "  cnt=cnt+1\n",
        "  print(\"- Intento\",cnt)\n",
        "  print(\"-- ID\", id_ticket ,\"Resultado:\", r.status_code,r.text)\n",
        "  \n",
        "  time.sleep(10)\n",
        "  \n",
        "\n",
        "\n",
        "resultados"
      ]
    },
    {
      "cell_type": "code",
      "execution_count": null,
      "metadata": {
        "colab": {
          "background_save": true
        },
        "id": "rvz94Bt-ItPq",
        "outputId": "1b568ddd-4b42-4abd-b2f5-2de50473a34a"
      },
      "outputs": [
        {
          "data": {
            "application/javascript": [
              "\n",
              "    async function download(id, filename, size) {\n",
              "      if (!google.colab.kernel.accessAllowed) {\n",
              "        return;\n",
              "      }\n",
              "      const div = document.createElement('div');\n",
              "      const label = document.createElement('label');\n",
              "      label.textContent = `Downloading \"${filename}\": `;\n",
              "      div.appendChild(label);\n",
              "      const progress = document.createElement('progress');\n",
              "      progress.max = size;\n",
              "      div.appendChild(progress);\n",
              "      document.body.appendChild(div);\n",
              "\n",
              "      const buffers = [];\n",
              "      let downloaded = 0;\n",
              "\n",
              "      const channel = await google.colab.kernel.comms.open(id);\n",
              "      // Send a message to notify the kernel that we're ready.\n",
              "      channel.send({})\n",
              "\n",
              "      for await (const message of channel.messages) {\n",
              "        // Send a message to notify the kernel that we're ready.\n",
              "        channel.send({})\n",
              "        if (message.buffers) {\n",
              "          for (const buffer of message.buffers) {\n",
              "            buffers.push(buffer);\n",
              "            downloaded += buffer.byteLength;\n",
              "            progress.value = downloaded;\n",
              "          }\n",
              "        }\n",
              "      }\n",
              "      const blob = new Blob(buffers, {type: 'application/binary'});\n",
              "      const a = document.createElement('a');\n",
              "      a.href = window.URL.createObjectURL(blob);\n",
              "      a.download = filename;\n",
              "      div.appendChild(a);\n",
              "      a.click();\n",
              "      div.remove();\n",
              "    }\n",
              "  "
            ],
            "text/plain": [
              "<IPython.core.display.Javascript object>"
            ]
          },
          "metadata": {},
          "output_type": "display_data"
        },
        {
          "data": {
            "application/javascript": [
              "download(\"download_132cb9bb-b678-485f-9786-b019b971f7d9\", \"resultados.csv\", 17332074)"
            ],
            "text/plain": [
              "<IPython.core.display.Javascript object>"
            ]
          },
          "metadata": {},
          "output_type": "display_data"
        }
      ],
      "source": [
        "from google.colab import files\n",
        "df_result=pd.DataFrame(resultados, columns=[\"Ticket\",\"Resultado\",\"respuesta\"])\n",
        "df_result.to_csv(\"/content/resultados.csv\",index=False)\n",
        "files.download('/content/resultados.csv')\n",
        "\n"
      ]
    }
  ],
  "metadata": {
    "colab": {
      "provenance": []
    },
    "kernelspec": {
      "display_name": "Python 3",
      "name": "python3"
    },
    "language_info": {
      "name": "python"
    }
  },
  "nbformat": 4,
  "nbformat_minor": 0
}