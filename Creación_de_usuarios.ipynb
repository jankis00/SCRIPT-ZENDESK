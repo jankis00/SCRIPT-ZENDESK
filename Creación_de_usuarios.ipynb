{
  "cells": [
    {
      "cell_type": "code",
      "execution_count": null,
      "metadata": {
        "id": "CwZacMWBtdc4"
      },
      "outputs": [],
      "source": [
        "#Librería para manipular datos\n",
        "import pandas as pd\n",
        "# llamar a la API de Zendesk\n",
        "import numpy as np\n",
        "import requests\n",
        "import time\n",
        "import json\n",
        "import base64\n",
        "import glob\n",
        "import os\n",
        "from os import walk\n",
        "from google.colab import files\n",
        "#@markdown \n",
        "#config\n",
        "pd.set_option('display.max_columns', None)"
      ]
    },
    {
      "cell_type": "code",
      "execution_count": null,
      "metadata": {
        "id": "vrc7LvrsnIbL"
      },
      "outputs": [],
      "source": [
        "#______________________________________________________________________________________\n",
        "#@markdown\n",
        "Dominio = '' #@param {type: \"string\"}\n",
        "\n",
        "Correo = '' #@param {type: \"string\"}\n",
        "Contraseña = '' #@param {type: \"string\"}\n",
        "Tipo_Usuario = \"Usuario Final \" #@param [\" Agente\", \"Usuario Final \"]\n",
        "\n",
        "\n",
        "##agrega el subdominio d el acuenta de zendesk de la cual importaras los\n",
        "##usuarios /leyendas\n",
        "\n",
        "z_domain=Dominio\n",
        "email=Correo\n",
        "contraseña=Contraseña\n",
        "rol= '360009592011'\n",
        "#tipo_usuario=Tipo_usuario\n",
        "\n",
        "authentication=email+\"/token:\"+contraseña\n",
        "message_bytes = authentication.encode('ascii')\n",
        "base64_bytes=base64.b64encode(message_bytes).decode('ascii')\n",
        "headers = {'Authorization': 'Basic '+base64_bytes, 'Content-Type': 'application/json'}"
      ]
    },
    {
      "cell_type": "code",
      "execution_count": null,
      "metadata": {
        "id": "ndg53f26-3QK"
      },
      "outputs": [],
      "source": [
        "from google.colab import files\n",
        "uploaded = files.upload()\n"
      ]
    },
    {
      "cell_type": "code",
      "execution_count": null,
      "metadata": {
        "id": "3UcVFAMbLBIq"
      },
      "outputs": [],
      "source": [
        "with open('/content/usuarios_peigo_2022_11_22_part_05.csv', encoding=\"ISO-8859-1\") as csv_file:\n",
        "  df=pd.read_csv(csv_file,sep=\",\" )\n",
        "\n",
        "\n",
        "df[\"custom_fields.ciudad\"] = df[\"custom_fields.ciudad\"].fillna(\"\")\n",
        "df[\"custom_fields.nacionalidad\"] = df[\"custom_fields.nacionalidad\"].fillna(\"\")\n",
        "df[\"custom_fields.provincia\"] = df[\"custom_fields.provincia\"].fillna(\"\")\n",
        "nan_cols = [i for i in df.columns if df[i].isnull().any()]\n",
        "nan_cols\n",
        "#df.dtypes"
      ]
    },
    {
      "cell_type": "code",
      "execution_count": null,
      "metadata": {
        "id": "aDuiHaWItfGZ"
      },
      "outputs": [],
      "source": [
        "url = z_domain+\"/api/v2/users/create_or_update\"\n",
        "resumen = []\n",
        "\n",
        "for i in range(len(df)):\n",
        " \n",
        "  data=json.dumps({\n",
        "  \"user\": {\n",
        "    \"name\": str(df.iloc[i][\"name\"]),\n",
        "    \"email\": str(df.iloc[i][\"email\"]),\n",
        "    \"phone\": \"+\"+str(df.iloc[i][\"phone\"]),\n",
        "    \"verified\": True,\n",
        "    \"active\": True,\n",
        "    \"user_fields\": {\n",
        "      \"cedula\": int(df.iloc[i][\"custom_fields.cedula\"]),\n",
        "      \"ciudad\": str(df.iloc[i][\"custom_fields.ciudad\"]),\n",
        "      \"embajador\": bool(df.iloc[i][\"custom_fields.embajador\"]),\n",
        "      \"empleado_del_banco\": bool(df.iloc[i][\"custom_fields.empleado_del_banco\"]),\n",
        "      \"genero\": str(df.iloc[i][\"custom_fields.genero\"]),\n",
        "      \"nacionalidad\": df.iloc[i][\"custom_fields.nacionalidad\"],\n",
        "      \"provincia\": str(df.iloc[i][\"custom_fields.provincia\"]),\n",
        "      \"segmento\": str(df.iloc[i][\"custom_fields.segmento\"]),\n",
        "      \"vp_del_banco\": bool(df.iloc[i][\"custom_fields.vp_del_banco\"])\n",
        "    }\n",
        "  }\n",
        "})\n",
        "  r = requests.post(url = url, headers = headers, data = data)\n",
        "  print(df.iloc[i][\"name\"],r.status_code,r.content)\n",
        "  resumen.append([df.iloc[i][\"name\"],r.status_code,r.content])\n",
        "  time.sleep(5)\n",
        "\n",
        "rr = pd.DataFrame(resumen,columns=[\"resultado\",\"status_code\",\"respuesta\"])\n",
        "\n",
        "rr.to_csv(\"/content/estado_carga.csv\")\n",
        "\n",
        "files.download(\"/content/estado_carga.csv\")\n"
      ]
    }
  ],
  "metadata": {
    "colab": {
      "provenance": []
    },
    "kernelspec": {
      "display_name": "Python 3 (ipykernel)",
      "language": "python",
      "name": "python3"
    },
    "language_info": {
      "codemirror_mode": {
        "name": "ipython",
        "version": 3
      },
      "file_extension": ".py",
      "mimetype": "text/x-python",
      "name": "python",
      "nbconvert_exporter": "python",
      "pygments_lexer": "ipython3",
      "version": "3.9.12"
    }
  },
  "nbformat": 4,
  "nbformat_minor": 0
}
