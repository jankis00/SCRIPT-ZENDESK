{
  "nbformat": 4,
  "nbformat_minor": 0,
  "metadata": {
    "colab": {
      "provenance": []
    },
    "kernelspec": {
      "name": "python3",
      "display_name": "Python 3"
    },
    "language_info": {
      "name": "python"
    }
  },
  "cells": [
    {
      "cell_type": "code",
      "execution_count": null,
      "metadata": {
        "id": "2cYRW-gcum38"
      },
      "outputs": [],
      "source": [
        "#@markdown\n",
        "#Librería para manipular datos\n",
        "import pandas as pd\n",
        "# llamar a la API de Zendesk\n",
        "import numpy as np\n",
        "import httplib2\n",
        "import time\n",
        "import json\n",
        "import base64\n",
        "import glob\n",
        "import os\n",
        "from os import walk\n",
        "from urllib import parse\n",
        "import math\n",
        "\n",
        "#from google.colab import drive\n",
        "#drive.mount('/content/drive')\n",
        "\n",
        "#config\n",
        "pd.set_option('display.max_columns', None)"
      ]
    },
    {
      "cell_type": "code",
      "source": [
        "\n",
        "\n",
        "#@markdown #***INGRESO DE USUARIO***\n",
        "Dominio = '' #@param {type: \"string\"}\n",
        "Email = '' #@param {type:\"string\"}\n",
        "Token = ''#@param {type:\"string\"}\n",
        "\n",
        "z_domain= Dominio\n",
        "email= Email\n",
        "contraseña= Token\n",
        "\n",
        "\n",
        "from tqdm import tqdm\n",
        "from time import sleep\n",
        "\n",
        "for i in tqdm(range(10)):\n",
        "  sleep(.7)\n",
        "authentication=email+\"/token:\"+contraseña\n",
        "message_bytes = authentication.encode('ascii')\n",
        "base64_bytes=base64.b64encode(message_bytes).decode('ascii')\n",
        "\n",
        "headers = {'Authorization': 'Basic '+base64_bytes, 'Content-Type': 'application/json'}\n",
        "start_time=\"946684800\"\n",
        "\n"
      ],
      "metadata": {
        "id": "FLklSU1w0ww9"
      },
      "execution_count": null,
      "outputs": []
    },
    {
      "cell_type": "code",
      "source": [
        "#@markdown\n",
        "qw= True\n",
        "all_df=pd.DataFrame()\n",
        "url = z_domain+\"/api/v2/users/search?query=role:agent%20role:admin\"\n",
        "while(qw):\n",
        "  print(url)\n",
        "  http = httplib2.Http()\n",
        "  response, content = http.request(url, 'GET', headers=headers)\n",
        "  data=json.loads(content)\n",
        "  print(data)\n",
        "  url=data['next_page']\n",
        "  df=pd.DataFrame(data['users'])\n",
        "  all_df=pd.concat([all_df,df[['name','email','created_at','updated_at','last_login_at','custom_role_id']]])\n",
        "  try:\n",
        "    count=math.ceil(data['count']/100)\n",
        "    num=np.array(parse.parse_qs(parse.urlsplit(url).query)['page'])\n",
        "    if count>=int(num):\n",
        "      print(\"Valido\",count,\"Es mayor que\",int(num))\n",
        "      qw= True\n",
        "    else:\n",
        "      qw=False\n",
        "  except:\n",
        "    qw= False\n",
        "\n",
        "\n"
      ],
      "metadata": {
        "id": "VTOwXYNnuzyf"
      },
      "execution_count": null,
      "outputs": []
    },
    {
      "cell_type": "code",
      "source": [
        "#@markdown\n",
        "all_df"
      ],
      "metadata": {
        "id": "qcnvoA0d5_TA"
      },
      "execution_count": null,
      "outputs": []
    },
    {
      "cell_type": "code",
      "source": [
        "#@markdown\n",
        "url2 = z_domain+\"/api/v2/custom_roles\"\n",
        "http2 = httplib2.Http()\n",
        "response, content = http2.request(url2, 'GET', headers=headers)\n",
        "data2=json.loads(content)\n",
        "roles=pd.DataFrame(data2['custom_roles'])\n",
        "roles['name'][roles['id']==360010165171]"
      ],
      "metadata": {
        "id": "P-gLD_TPwzTZ"
      },
      "execution_count": null,
      "outputs": []
    },
    {
      "cell_type": "code",
      "source": [
        "#@markdown *Generando csv*\n",
        "lst=[]\n",
        "for i in all_df['custom_role_id']:\n",
        "  lst.append(*list(roles['name'][roles['id']==i]))\n",
        "all_df['Nombre del rol']= lst\n",
        "\n",
        "all_df=all_df.reset_index()\n",
        "all_df.to_csv(\"extracto.csv\")\n",
        "\n",
        "from tqdm import tqdm\n",
        "from time import sleep\n",
        "\n",
        "for i in tqdm(range(10)):\n",
        "  sleep(.7)\n",
        "print(\"CSV generado con exito\")"
      ],
      "metadata": {
        "id": "UuggPk1kNXYt"
      },
      "execution_count": null,
      "outputs": []
    }
  ]
}