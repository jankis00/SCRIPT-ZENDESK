{
  "nbformat": 4,
  "nbformat_minor": 0,
  "metadata": {
    "colab": {
      "provenance": []
    },
    "kernelspec": {
      "name": "python3",
      "display_name": "Python 3"
    },
    "language_info": {
      "name": "python"
    }
  },
  "cells": [
    {
      "cell_type": "code",
      "execution_count": null,
      "metadata": {
        "id": "f-voYajxMC4x",
        "cellView": "form"
      },
      "outputs": [],
      "source": [
        "#@markdown\n",
        "#Librería para manipular datos\n",
        "import pandas as pd\n",
        "# llamar a la API de Zendesk\n",
        "import numpy as np\n",
        "import requests\n",
        "import time\n",
        "import json\n",
        "import base64\n",
        "import glob\n",
        "import os\n",
        "from os import walk\n",
        "from urllib import parse\n",
        "import math\n",
        "\n",
        "#from google.colab import drive\n",
        "#drive.mount('/content/drive')\n",
        "\n",
        "#config\n",
        "pd.set_option('display.max_columns', None)\n",
        "#@markdown #***INGRESO DE USUARIO***\n",
        "Dominio = '' #@param {type: \"string\"}\n",
        "Email = '' #@param {type:\"string\"}\n",
        "Token = ''#@param {type:\"string\"}\n",
        "\n",
        "z_domain= Dominio\n",
        "email= Email\n",
        "contraseña= Token\n",
        "\n",
        "\n",
        "from tqdm import tqdm\n",
        "from time import sleep\n",
        "\n",
        "#@markdown\n",
        "authentication=email+\"/token:\"+contraseña\n",
        "message_bytes = authentication.encode('ascii')\n",
        "base64_bytes=base64.b64encode(message_bytes).decode('ascii')\n",
        "\n",
        "headers = {'Authorization': 'Basic '+base64_bytes, 'Content-Type': 'application/json'}"
      ]
    },
    {
      "cell_type": "code",
      "source": [
        "\n",
        "#@markdown\n",
        "qw= True\n",
        "all_df=pd.DataFrame()\n",
        "url = z_domain+\"/api/v2/macros/active\"\n",
        "while(qw):\n",
        "  #print(url)\n",
        "  response= requests.get(url, headers=headers)\n",
        "  respuesta = response.text\n",
        "\n",
        "\n",
        " \n",
        "  data=json.loads(response.text)\n",
        "  print(data[\"macros\"])\n",
        "\n",
        "  url=data['next_page']\n",
        "  df=pd.DataFrame(data['macros'])\n",
        "  all_df=pd.concat([all_df,df[['id','title','description','actions','created_at','updated_at']]])\n",
        "  time.sleep(5)\n",
        "  try:\n",
        "    count=math.ceil(data['count']/100)\n",
        "    num=np.array(parse.parse_qs(parse.urlsplit(url).query)['page'])\n",
        "    if count>=int(num):\n",
        "      print(\"Valido\",count,\"Es mayor que\",int(num))\n",
        "      qw= True\n",
        "    else:\n",
        "      qw=False\n",
        "  except:\n",
        "    qw= False\n",
        "\n",
        "\n",
        "all_df=all_df.reset_index(drop=True)\n",
        "\n"
      ],
      "metadata": {
        "id": "Aq0Vh6FCMQNz"
      },
      "execution_count": null,
      "outputs": []
    },
    {
      "cell_type": "code",
      "source": [
        "\n",
        "all_df.to_excel(\"Archivo.xlsx\")\n",
        "\n"
      ],
      "metadata": {
        "id": "zFnMdlwiRdjy"
      },
      "execution_count": null,
      "outputs": []
    }
  ]
}