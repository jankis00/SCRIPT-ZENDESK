{
  "cells": [
    {
      "cell_type": "code",
      "execution_count": null,
      "metadata": {
        "colab": {
          "base_uri": "https://localhost:8080/"
        },
        "id": "vrc7LvrsnIbL",
        "outputId": "c2e2f734-31fc-4a2b-b7a4-14c24468253a"
      },
      "outputs": [],
      "source": [
        "#Librería para manipular datos\n",
        "import pandas as pd\n",
        "# llamar a la API de Zendesk\n",
        "import numpy as np\n",
        "import httplib2\n",
        "import time\n",
        "import json\n",
        "import requests\n",
        "import base64\n",
        "import glob\n",
        "import os\n",
        "from os import walk\n",
        "from google.colab import files\n",
        "\n",
        "!pip install -U -q ipywidgets\n",
        "!jupyter nbextension enable --py widgetsnbextension\n",
        "import ipywidgets as widgets\n",
        "import asyncio\n",
        "\n",
        "\n",
        "#config\n",
        "pd.set_option('display.max_columns', None)\n",
        "#@markdown #***INGRESO DE USUARIO***\n",
        "Dominio = '' #@param {type: \"string\"}\n",
        "Email = '' #@param {type:\"string\"}\n",
        "Token = ''#@param {type:\"string\"}\n",
        "start_time=\"9000000\" \n",
        "\n",
        "z_domain= Dominio\n",
        "email= Email\n",
        "contraseña= Token\n",
        "\n",
        "\n",
        "#@markdown\n",
        "authentication=email+\"/token:\"+contraseña\n",
        "message_bytes = authentication.encode('ascii')\n",
        "base64_bytes=base64.b64encode(message_bytes).decode('ascii')\n",
        "\n",
        "headers = {'Authorization': 'Basic '+base64_bytes, 'Content-Type': 'application/json'}\n",
        "\n",
        "carpeta_contenedora=\"/content/\""
      ]
    },
    {
      "cell_type": "code",
      "execution_count": null,
      "metadata": {
        "cellView": "form",
        "colab": {
          "base_uri": "https://localhost:8080/"
        },
        "id": "3_U-TqhSPQuf",
        "outputId": "b0f79dfc-4ad3-4071-b0aa-854ca42f70e4"
      },
      "outputs": [],
      "source": [
        "#@markdown\n",
        "url = z_domain+\"/api/v2/ticket_forms\"\n",
        "status = 0\n",
        "while status != 200:\n",
        "  r = requests.get(url, headers=headers)\n",
        "  \n",
        "  status = r.status_code\n",
        "  if status == 200:\n",
        "    print(\"--llamada de api exitosa: \", status)\n",
        "    data=json.loads(r.text)\n",
        "\n",
        "  else:\n",
        "    print(\"--llamada de api fracasada: \", status)\n",
        "    time.sleep(10)\n",
        "\n",
        "df_form=pd.DataFrame(data['ticket_forms'])\n"
      ]
    },
    {
      "cell_type": "code",
      "execution_count": null,
      "metadata": {
        "cellView": "form",
        "colab": {
          "base_uri": "https://localhost:8080/",
          "height": 194,
          "referenced_widgets": [
            "edf657312ebb40228749885c35c811ad",
            "739ba364015f4af5b4dbf920243eb5be",
            "b3ae35d771f14c8d94f9544f7146d092"
          ]
        },
        "id": "BIh3zWaoebfJ",
        "outputId": "4b51b622-36f2-4ec4-c75f-2e53041c90a2"
      },
      "outputs": [],
      "source": [
        "\n",
        "#@markdown  Selecciona los formularios a mapear\n",
        "form_available=widgets.SelectMultiple(\n",
        "    options=list(df_form['name']),\n",
        "    value=[],\n",
        "    rows=10,\n",
        "    description='Opciones',\n",
        "    disabled=False\n",
        ")\n",
        "\n",
        "form_available\n"
      ]
    },
    {
      "cell_type": "code",
      "execution_count": null,
      "metadata": {
        "id": "3yS7ZldLy-ND"
      },
      "outputs": [],
      "source": [
        "#@markdown\n",
        "def generarDataSetCamposTicket(z_domain,start_time,headers):    \n",
        "    url = z_domain+\"/api/v2/ticket_fields\"\n",
        "    http = httplib2.Http()\n",
        "    response, content = http.request(url, 'GET', headers=headers)\n",
        "    data=json.loads(content)\n",
        "    campos_de_ticket={}\n",
        "    for idx, x in enumerate(data['ticket_fields']):\n",
        "        id =  data['ticket_fields'][idx]['id']\n",
        "        nombreCampo =  data['ticket_fields'][idx]['title']\n",
        "        type =  data['ticket_fields'][idx]['type']\n",
        "\n",
        "\n",
        "        if type == 'tagger' or type == 'multiselect':\n",
        "            custom_field_options = data['ticket_fields'][idx]['custom_field_options']\n",
        "            opciones_campo = []\n",
        "            for idy, y in enumerate(custom_field_options):\n",
        "                opciones_campo.append([custom_field_options[idy]['raw_name'], custom_field_options[idy]['value']])\n",
        "\n",
        "            campos_de_ticket[id]={\"name\":nombreCampo, \"type\":type, \"options\":opciones_campo}\n",
        "\n",
        "        if type == 'checkbox':\n",
        "            tag = custom_field_options = data['ticket_fields'][idx]['tag']\n",
        "            campos_de_ticket[id]={\"name\":nombreCampo, \"type\":type, \"options\": tag}\n",
        "\n",
        "        if type != 'checkbox' and type != 'tagger' and type != 'multiselect':\n",
        "            campos_de_ticket[id]={\"name\":nombreCampo, \"type\":type, \"options\":[]}\n",
        "\n",
        "    \n",
        "    return campos_de_ticket\n",
        "\n",
        "form_selected=list(form_available.value)\n",
        "lista_campos=generarDataSetCamposTicket(z_domain,start_time,headers)\n"
      ]
    },
    {
      "cell_type": "code",
      "execution_count": null,
      "metadata": {
        "colab": {
          "base_uri": "https://localhost:8080/",
          "height": 1000
        },
        "id": "9DsvZwrd0rZA",
        "outputId": "a5e8abac-316e-4be3-f426-37acc7255ef0"
      },
      "outputs": [],
      "source": [
        "df_final=pd.DataFrame()\n",
        "\n",
        "for index,x in df_form.iterrows():\n",
        "  name=x['name']\n",
        "  for gb in form_selected:\n",
        "    if gb == name:\n",
        "      for zx in x['ticket_field_ids']:\n",
        "        #print(lista_campos[zx])\n",
        "        Name_field=lista_campos[zx][\"name\"]\n",
        "        type_field=lista_campos[zx][\"type\"]\n",
        "        if lista_campos[zx][\"options\"]!=None:\n",
        "          if len(lista_campos[zx][\"options\"])> 0:\n",
        "            for xz in lista_campos[zx][\"options\"]:\n",
        "              df_final=df_final.append({\"Nombre Formulario\":x['name'],\"ID Campo\":zx,\"Nombre Campo\":Name_field,\"Tipo de campo\":type_field,\"nombre_variable\":xz[0],\"id_variable\":xz[1]}, ignore_index = True)\n",
        "\n",
        "          else:\n",
        "            df_final=df_final.append({\"Nombre Formulario\":x['name'],\"ID Campo\":zx,\"Nombre Campo\":Name_field,\"Tipo de campo\":type_field,\"nombre_variable\":\"\",\"id_variable\":\"\"}, ignore_index = True)\n",
        "        else:\n",
        "            df_final=df_final.append({\"Nombre Formulario\":x['name'],\"ID Campo\":zx,\"Nombre Campo\":Name_field,\"Tipo de campo\":type_field,\"nombre_variable\":\"\",\"id_variable\":\"\"}, ignore_index = True)\n",
        "\n",
        "\n",
        "df_final.to_excel(\"extracción.xlsx\")\n",
        "files.download('extracción.xlsx')\n"
      ]
    },
    {
      "cell_type": "markdown",
      "metadata": {
        "id": "0xAefjwYPMFv"
      },
      "source": []
    }
  ],
  "metadata": {
    "colab": {
      "provenance": []
    },
    "kernelspec": {
      "display_name": "Python 3 (ipykernel)",
      "language": "python",
      "name": "python3"
    },
    "language_info": {
      "codemirror_mode": {
        "name": "ipython",
        "version": 3
      },
      "file_extension": ".py",
      "mimetype": "text/x-python",
      "name": "python",
      "nbconvert_exporter": "python",
      "pygments_lexer": "ipython3",
      "version": "3.9.12"
    },
    "widgets": {
      "application/vnd.jupyter.widget-state+json": {
        "739ba364015f4af5b4dbf920243eb5be": {
          "model_module": "@jupyter-widgets/base",
          "model_module_version": "2.0.0",
          "model_name": "LayoutModel",
          "state": {
            "_model_module": "@jupyter-widgets/base",
            "_model_module_version": "2.0.0",
            "_model_name": "LayoutModel",
            "_view_count": null,
            "_view_module": "@jupyter-widgets/base",
            "_view_module_version": "2.0.0",
            "_view_name": "LayoutView",
            "align_content": null,
            "align_items": null,
            "align_self": null,
            "border_bottom": null,
            "border_left": null,
            "border_right": null,
            "border_top": null,
            "bottom": null,
            "display": null,
            "flex": null,
            "flex_flow": null,
            "grid_area": null,
            "grid_auto_columns": null,
            "grid_auto_flow": null,
            "grid_auto_rows": null,
            "grid_column": null,
            "grid_gap": null,
            "grid_row": null,
            "grid_template_areas": null,
            "grid_template_columns": null,
            "grid_template_rows": null,
            "height": null,
            "justify_content": null,
            "justify_items": null,
            "left": null,
            "margin": null,
            "max_height": null,
            "max_width": null,
            "min_height": null,
            "min_width": null,
            "object_fit": null,
            "object_position": null,
            "order": null,
            "overflow": null,
            "padding": null,
            "right": null,
            "top": null,
            "visibility": null,
            "width": null
          }
        },
        "b3ae35d771f14c8d94f9544f7146d092": {
          "model_module": "@jupyter-widgets/controls",
          "model_module_version": "2.0.0",
          "model_name": "DescriptionStyleModel",
          "state": {
            "_model_module": "@jupyter-widgets/controls",
            "_model_module_version": "2.0.0",
            "_model_name": "DescriptionStyleModel",
            "_view_count": null,
            "_view_module": "@jupyter-widgets/base",
            "_view_module_version": "2.0.0",
            "_view_name": "StyleView",
            "description_width": ""
          }
        },
        "edf657312ebb40228749885c35c811ad": {
          "model_module": "@jupyter-widgets/controls",
          "model_module_version": "2.0.0",
          "model_name": "SelectMultipleModel",
          "state": {
            "_dom_classes": [],
            "_model_module": "@jupyter-widgets/controls",
            "_model_module_version": "2.0.0",
            "_model_name": "SelectMultipleModel",
            "_options_labels": [
              "Requerimientos",
              "Caso de Seguimiento",
              "Reclamos",
              "test111",
              "prueba",
              "Requerimientos (old)",
              "Formulario de ticket predeterminado"
            ],
            "_view_count": null,
            "_view_module": "@jupyter-widgets/controls",
            "_view_module_version": "2.0.0",
            "_view_name": "SelectMultipleView",
            "description": "Opciones",
            "description_allow_html": false,
            "disabled": false,
            "index": [
              0
            ],
            "layout": "IPY_MODEL_739ba364015f4af5b4dbf920243eb5be",
            "rows": 10,
            "style": "IPY_MODEL_b3ae35d771f14c8d94f9544f7146d092",
            "tabbable": null,
            "tooltip": null
          }
        }
      }
    }
  },
  "nbformat": 4,
  "nbformat_minor": 0
}
