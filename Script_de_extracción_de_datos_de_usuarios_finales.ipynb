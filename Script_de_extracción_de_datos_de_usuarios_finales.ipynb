{
  "cells": [
    {
      "cell_type": "code",
      "execution_count": null,
      "metadata": {
        "id": "o8NorYcXbT6r"
      },
      "outputs": [],
      "source": [
        "#Librería para manipular datos\n",
        "import pandas as pd\n",
        "# llamar a la API de Zendesk\n",
        "import numpy as np\n",
        "import httplib2\n",
        "import time\n",
        "import json\n",
        "import requests\n",
        "import base64\n",
        "import glob\n",
        "import os\n",
        "from os import walk\n",
        "from google.colab import files\n",
        "\n",
        "#config\n",
        "pd.set_option('display.max_columns', None)\n",
        "\n",
        "#@markdown\n",
        "#Librería para manipular datos\n",
        "import pandas as pd\n",
        "# llamar a la API de Zendesk\n",
        "import numpy as np\n",
        "import requests\n",
        "import httplib2\n",
        "import time\n",
        "import json\n",
        "import base64\n",
        "import glob\n",
        "import os\n",
        "from os import walk\n",
        "from urllib import parse\n",
        "import math\n",
        "\n",
        "#from google.colab import drive\n",
        "#drive.mount('/content/drive')\n",
        "\n",
        "#config\n",
        "pd.set_option('display.max_columns', None)\n",
        "#@markdown #***INGRESO DE USUARIO***\n",
        "Dominio = '' #@param {type: \"string\"}\n",
        "Email = '' #@param {type:\"string\"}\n",
        "Token = ''#@param {type:\"string\"}\n",
        "\n",
        "z_domain= Dominio\n",
        "email= Email\n",
        "contraseña= Token\n",
        "\n",
        "\n",
        "from tqdm import tqdm\n",
        "from time import sleep\n",
        "\n",
        "#@markdown\n",
        "authentication=email+\"/token:\"+contraseña\n",
        "message_bytes = authentication.encode('ascii')\n",
        "base64_bytes=base64.b64encode(message_bytes).decode('ascii')\n",
        "\n",
        "headers = {'Authorization': 'Basic '+base64_bytes, 'Content-Type': 'application/json'}\n",
        "start_time=\"946684800\""
      ]
    },
    {
      "cell_type": "code",
      "execution_count": null,
      "metadata": {
        "id": "DE8Rnmyvbg2c"
      },
      "outputs": [],
      "source": [
        "def data_user(z_domain,start_time,headers):\n",
        "  continua=True\n",
        "  user_time=str(946684800)\n",
        "  all_org={}\n",
        "  iter=1\n",
        "  print(\"---Lo lamentamos, esto puede demorar\")\n",
        "  id=[]\n",
        "  user=[]\n",
        "  email=[]\n",
        "  iter=1\n",
        "  while continua:\n",
        "    print(\"---extración de info usuario iter \"+str(iter)+\",COD \"+user_time)\n",
        "    url = z_domain+\"/api/v2/incremental/users.json?start_time=\"+user_time\n",
        "    http = httplib2.Http()\n",
        "    response, content = http.request(url, 'GET', headers=headers)\n",
        "    data=json.loads(content)\n",
        "    time.sleep(6)\n",
        "    #print(data)\n",
        "    #print(\"_________\")\n",
        "    \n",
        "    for idx, x in enumerate(data['users']):\n",
        "      if x[\"role\"] == \"end-user\":\n",
        "        id.append(x[\"id\"])\n",
        "        user.append(x[\"name\"])\n",
        "        email.append(x[\"email\"])\n",
        "    if(data['end_of_stream']):\n",
        "      continua=False \n",
        "    user_time=str(data['end_time'])\n",
        "    iter=iter+1\n",
        "  print(\"---Se obtuvo la información de los usuarios\")\n",
        "\n",
        "  return id,user,email"
      ]
    },
    {
      "cell_type": "code",
      "execution_count": null,
      "metadata": {
        "colab": {
          "base_uri": "https://localhost:8080/"
        },
        "id": "iIvcNlT1b62j",
        "outputId": "3d8842a3-e45e-4f9b-b515-6b2ea96220b1"
      },
      "outputs": [],
      "source": [
        "data=data_user(z_domain,start_time,headers)\n",
        "\n"
      ]
    },
    {
      "cell_type": "code",
      "execution_count": null,
      "metadata": {
        "colab": {
          "base_uri": "https://localhost:8080/",
          "height": 424
        },
        "id": "rG-2Ye4ihUGT",
        "outputId": "390c2b44-4be6-4894-93aa-e90c198ff860"
      },
      "outputs": [],
      "source": [
        "df=pd.DataFrame({\"id\":data[0],\"name\":data[1],\"email\":data[2]})\n",
        "df\n"
      ]
    },
    {
      "cell_type": "code",
      "execution_count": null,
      "metadata": {
        "colab": {
          "base_uri": "https://localhost:8080/",
          "height": 17
        },
        "id": "INIERk2TgqaH",
        "outputId": "f6d86e87-0ac1-4d69-babd-ba33d6dbda59"
      },
      "outputs": [],
      "source": [
        "df.to_csv(\"Archivo.csv\")\n",
        "df.to_excel(\"Archivo.xlsx\")\n",
        "files.download('Archivo.csv')\n",
        "#files.download('Archivo.xlsx') "
      ]
    }
  ],
  "metadata": {
    "colab": {
      "provenance": []
    },
    "kernelspec": {
      "display_name": "Python 3",
      "name": "python3"
    },
    "language_info": {
      "name": "python"
    }
  },
  "nbformat": 4,
  "nbformat_minor": 0
}
